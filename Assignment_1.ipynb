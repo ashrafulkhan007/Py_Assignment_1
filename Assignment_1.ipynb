{
 "cells": [
  {
   "cell_type": "markdown",
   "id": "4ab44cb1",
   "metadata": {},
   "source": [
    "# Assignment 1\n",
    "\n",
    "#### Md Ashraful Hakim Khan Siddiquee\n",
    "#### Md Easin\n",
    "#### Aklima Begum Mitu"
   ]
  },
  {
   "cell_type": "markdown",
   "id": "ffb1f48f",
   "metadata": {},
   "source": [
    "## Task 1 (2 points)\n",
    "\n",
    "#### User Input\n",
    "\n",
    "Write a short program that asks the user for their **name and age**. Afterwards, print **how long their name is and when they were born**. Example of the expected below:"
   ]
  },
  {
   "cell_type": "code",
   "execution_count": 11,
   "id": "315076d3",
   "metadata": {},
   "outputs": [
    {
     "name": "stdout",
     "output_type": "stream",
     "text": [
      "What is your name? Teodor\n",
      "How old are you? 28\n",
      "Hello, Teodor! Your name has 6 letters and you were born in 1994.\n"
     ]
    }
   ],
   "source": [
    "# Your code here\n",
    "name = input(\"What's your name? \")  #take name as user input\n",
    "age = int(input(\"How old are you?\")) #take age as user input and convert it to integer\n",
    "birth_year = 2022 - age #calculate birth year\n",
    "\n",
    "print(f\"Hello, {name}! Your name has {len(name)} letters and you were born in {birth_year}\")\n"
   ]
  },
  {
   "cell_type": "markdown",
   "id": "498d0092",
   "metadata": {},
   "source": [
    "## Task 2 (2 points)\n",
    "\n",
    "#### Dictionaries and Sets\n",
    "\n",
    "Print the answers to the following questions **by manipulating the given dictionary of sets**. Example of the expected output below (don't worry about printing brackets for now):"
   ]
  },
  {
   "cell_type": "code",
   "execution_count": 2,
   "id": "fe3070e4",
   "metadata": {},
   "outputs": [
    {
     "name": "stdout",
     "output_type": "stream",
     "text": [
      "What languages can Paula code in?\n",
      "Paula can code in {'Python', 'Java'} \n",
      "How many languages can Laura code in?\n",
      "Laura can code in 3 languages \n",
      "What language do both Chris and Paula master?\n",
      "They both code in {'Java'}\n"
     ]
    }
   ],
   "source": [
    "prog_skills = {'Chris': {'C#', 'Java'},\n",
    "               'Laura': {'Python', 'C++', 'JavaScript'},\n",
    "               'Paula': {'Java', 'Python'}}\n",
    "\n",
    "print('What languages can Paula code in?')\n",
    "print(f\"Paula can code in {prog_skills['Paula']} \")  #access value from dictionary using key\n",
    "\n",
    "print('How many languages can Laura code in?')\n",
    "print(f\"Laura can code in {len(prog_skills['Laura'])} languages \")  #access length of value \n",
    "\n",
    "chris = prog_skills['Chris']  #create a new set with Chris's value\n",
    "paula = prog_skills['Paula']  #create a new set with Paula's value\n",
    "common = chris.intersection(paula) #find & store common items in between two sets\n",
    "\n",
    "print('What language do both Chris and Paula master?')\n",
    "print('They both code in', common)"
   ]
  },
  {
   "cell_type": "markdown",
   "id": "851e99f6",
   "metadata": {},
   "source": [
    "## Task 3 (1 point)\n",
    "\n",
    "#### Fuzzy Arithmetic\n",
    "\n",
    "Consider all natural numbers up to (and including) 30.\n",
    "Print out for each number whether it is a **multiple of 3, of 5, of both or none**."
   ]
  },
  {
   "cell_type": "code",
   "execution_count": 33,
   "id": "07d41bed",
   "metadata": {},
   "outputs": [
    {
     "name": "stdout",
     "output_type": "stream",
     "text": [
      "1 is none\n",
      "2 is none\n",
      "3 is multiple of 3\n",
      "4 is none\n",
      "5 is multiple of 5\n",
      "6 is multiple of 3\n",
      "7 is none\n",
      "8 is none\n",
      "9 is multiple of 3\n",
      "10 is multiple of 5\n",
      "11 is none\n",
      "12 is multiple of 3\n",
      "13 is none\n",
      "14 is none\n",
      "15 is multiple of 3 and 5\n",
      "16 is none\n",
      "17 is none\n",
      "18 is multiple of 3\n",
      "19 is none\n",
      "20 is multiple of 5\n",
      "21 is multiple of 3\n",
      "22 is none\n",
      "23 is none\n",
      "24 is multiple of 3\n",
      "25 is multiple of 5\n",
      "26 is none\n",
      "27 is multiple of 3\n",
      "28 is none\n",
      "29 is none\n",
      "30 is multiple of 3 and 5\n"
     ]
    }
   ],
   "source": [
    "# Your code here\n",
    "for i in range(1,31):    #used range function to run loop from 1 to 30\n",
    "    if i % 3 == 0 and i % 5 == 0:  #Check if the number is a multiple of 3 and 5\n",
    "        print(f\"{i} is multiple of 3 and 5\")\n",
    "    elif i % 3 == 0:  #Check if the number is a multiple of 3\n",
    "        print(f\"{i} is multiple of 3\")\n",
    "    elif i % 5 == 0: #Check if the number is a multiple of 5\n",
    "        print(f\"{i} is multiple of 5\")\n",
    "    else:\n",
    "        print(f\"{i} is none\") \n"
   ]
  },
  {
   "cell_type": "markdown",
   "id": "107a0a46",
   "metadata": {},
   "source": [
    "## Task 4 (4 points)\n",
    "\n",
    "#### Interval halving\n",
    "\n",
    "Write a program that asks the user to choose a number from 1 to 1000 \n",
    "and then tries to guess that number by halving the search interval.\n",
    "Concretely, the user is prompted after each wrong guess of the program \n",
    "to reveal if their choice is higher or lower than the previous guess \n",
    "and then halves again the next subinterval.\n",
    "\n",
    "Make sure the program stops when the maximum number of possible halving \n",
    "steps is reached (what is this number?). Also make sure you handle unallowed \n",
    "user inputs accordingly.\n",
    "\n",
    "Here is an example of how the program would react, if the user thought of **523**:\n",
    "\n",
    "```\n",
    "Think of a number from 1 to 1000\n",
    "Have you thought of 500? y/n: n\n",
    "Is it lower or higher than 500? l/h: h\n",
    "Have you thought of 750? y/n: n\n",
    "Is it lower or higher than 750? l/h: l\n",
    "Have you thought of 625? y/n: n\n",
    "Is it lower or higher than 625? l/h: l\n",
    "Have you thought of 562? y/n: n\n",
    "Is it lower or higher than 562? l/h: l\n",
    "Have you thought of 531? y/n: n\n",
    "Is it lower or higher than 531? l/h: l\n",
    "Have you thought of 515? y/n: n\n",
    "Is it lower or higher than 515? l/h: h\n",
    "Have you thought of 523? y/n: y\n",
    "Yeah, I guessed correctly in 7 steps!\n",
    "```"
   ]
  },
  {
   "cell_type": "code",
   "execution_count": 3,
   "id": "7f6d622e",
   "metadata": {},
   "outputs": [
    {
     "name": "stdout",
     "output_type": "stream",
     "text": [
      "Think of a number from 1 to 1000\n",
      "Have you thought of 500 ? y/n: n\n",
      "Is it lower or higher than 500 ? l/h: h\n",
      "Have you thought of 750 ? y/n: n\n",
      "Is it lower or higher than 750 ? l/h: l\n",
      "Have you thought of 625 ? y/n: n\n",
      "Is it lower or higher than 625 ? l/h: l\n",
      "Have you thought of 562 ? y/n: n\n",
      "Is it lower or higher than 562 ? l/h: l\n",
      "Have you thought of 531 ? y/n: n\n",
      "Is it lower or higher than 531 ? l/h: l\n",
      "Have you thought of 515 ? y/n: n\n",
      "Is it lower or higher than 515 ? l/h: h\n",
      "Have you thought of 523 ? y/n: y\n",
      "Yeah, I guessed correctly in 7 steps!\n"
     ]
    }
   ],
   "source": [
    "from math import log2\n",
    "import time\n",
    "\n",
    "a, b = 1, 1000 # interval margins\n",
    "counter = 1    # counts the number of guesses\n",
    "maxSteps = round(log2(b))  #the maximum number of possible halving steps\n",
    "user_input = 0  #store user's opinion\n",
    "guess = b//2 #for halving the search interval\n",
    "print (\"Think of a number from 1 to 1000\")\n",
    "time.sleep(1)  # wait 1 second before proceeding\n",
    "\n",
    "while user_input != 'y' and counter <= maxSteps:\n",
    "    print(f'Have you thought of {guess} ? y/n:',end = ' ')\n",
    "    user_input = input()    #Read a string from standard input. The trailing newline is stripped.\n",
    "    time.sleep(1)  # wait 1 second before proceeding\n",
    "    if user_input == 'y':\n",
    "        break\n",
    "    elif user_input == 'n':\n",
    "        print(f'Is it lower or higher than {guess} ? l/h:',end = ' ')\n",
    "        user_input = input()\n",
    "        time.sleep(1)  # wait 1 second before proceeding\n",
    "        if user_input == 'l':\n",
    "            b = guess\n",
    "            guess = (b + a) // 2\n",
    "            counter = counter + 1\n",
    "            user_input = 0\n",
    "        elif user_input == 'h':\n",
    "            a = guess\n",
    "            guess = (b + a) // 2\n",
    "            counter = counter + 1\n",
    "            user_input = 0\n",
    "        else:\n",
    "            print(\"Wrong input.\")\n",
    "            user_input = 0\n",
    "    else:\n",
    "            print (\"Wrong input.\")\n",
    "            user_input = 0\n",
    "print(f'Yeah, I guessed correctly in {counter} steps!')"
   ]
  },
  {
   "cell_type": "markdown",
   "id": "d877e791",
   "metadata": {},
   "source": [
    "## Task 5 (1 point)\n",
    "\n",
    "#### Sorted Lists\n",
    "\n",
    "Write a function ```isSorted``` that takes a list as an argument and checks whether the list is sorted in ascending order or not. The print-statements below should all return the expected output. Also write a docstring in the functions head - between the triple quotes - describing the input and the output of the function."
   ]
  },
  {
   "cell_type": "code",
   "execution_count": 5,
   "id": "7df5e9de",
   "metadata": {},
   "outputs": [],
   "source": [
    "def isSorted(listToSort):\n",
    "    \"\"\"Function will take a list as an argument & check whether the items of list are in ascending order or not. If items are in ascending order then function will return True else it will reurn False.\"\"\"\n",
    "    if listToSort == sorted(listToSort):   #check the equality of input list with it's sorted list\n",
    "        return True\n",
    "    else:\n",
    "        return False\n"
   ]
  },
  {
   "cell_type": "code",
   "execution_count": 6,
   "id": "1f34dfdb",
   "metadata": {},
   "outputs": [
    {
     "name": "stdout",
     "output_type": "stream",
     "text": [
      "True\n",
      "False\n",
      "True\n",
      "False\n"
     ]
    }
   ],
   "source": [
    "print(isSorted([-3, 0.5, 100]))\n",
    "print(isSorted([2, 3, 5, 4.5]))\n",
    "print(isSorted(['a', 'c', 'e']))\n",
    "print(isSorted(['a', 'e', 'c']))"
   ]
  },
  {
   "cell_type": "code",
   "execution_count": null,
   "id": "80f4f084",
   "metadata": {},
   "outputs": [],
   "source": []
  }
 ],
 "metadata": {
  "kernelspec": {
   "display_name": "Python 3 (ipykernel)",
   "language": "python",
   "name": "python3"
  },
  "language_info": {
   "codemirror_mode": {
    "name": "ipython",
    "version": 3
   },
   "file_extension": ".py",
   "mimetype": "text/x-python",
   "name": "python",
   "nbconvert_exporter": "python",
   "pygments_lexer": "ipython3",
   "version": "3.9.12"
  }
 },
 "nbformat": 4,
 "nbformat_minor": 5
}
